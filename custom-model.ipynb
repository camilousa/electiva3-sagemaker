{
 "cells": [
  {
   "cell_type": "code",
   "execution_count": 1,
   "id": "3fd44ba6-c52f-45f0-a9f9-eac74cf21ab8",
   "metadata": {},
   "outputs": [
    {
     "name": "stdout",
     "output_type": "stream",
     "text": [
      "sagemaker.config INFO - Not applying SDK defaults from location: /etc/xdg/sagemaker/config.yaml\n",
      "sagemaker.config INFO - Not applying SDK defaults from location: /home/sagemaker-user/.config/sagemaker/config.yaml\n"
     ]
    }
   ],
   "source": [
    "import sagemaker\n",
    "import joblib\n",
    "import sklearn\n",
    "from sklearn.neighbors import KNeighborsClassifier\n",
    "from sagemaker.sklearn.model import SKLearnModel\n",
    "from sagemaker.serializers import CSVSerializer\n",
    "from sagemaker.deserializers import CSVDeserializer\n",
    "import pandas as pd"
   ]
  },
  {
   "cell_type": "code",
   "execution_count": 2,
   "id": "09c73b27-7af3-4c17-a2fa-0f4f8a4e67cd",
   "metadata": {},
   "outputs": [
    {
     "name": "stdout",
     "output_type": "stream",
     "text": [
      "Found existing installation: scikit-learn 1.2.1\n",
      "Uninstalling scikit-learn-1.2.1:\n",
      "  Successfully uninstalled scikit-learn-1.2.1\n",
      "Collecting scikit-learn==1.2.1\n",
      "  Using cached scikit_learn-1.2.1-cp310-cp310-manylinux_2_17_x86_64.manylinux2014_x86_64.whl.metadata (11 kB)\n",
      "Requirement already satisfied: numpy>=1.17.3 in /opt/conda/lib/python3.10/site-packages (from scikit-learn==1.2.1) (1.26.3)\n",
      "Requirement already satisfied: scipy>=1.3.2 in /opt/conda/lib/python3.10/site-packages (from scikit-learn==1.2.1) (1.11.4)\n",
      "Requirement already satisfied: joblib>=1.1.1 in /opt/conda/lib/python3.10/site-packages (from scikit-learn==1.2.1) (1.3.2)\n",
      "Requirement already satisfied: threadpoolctl>=2.0.0 in /opt/conda/lib/python3.10/site-packages (from scikit-learn==1.2.1) (3.2.0)\n",
      "Using cached scikit_learn-1.2.1-cp310-cp310-manylinux_2_17_x86_64.manylinux2014_x86_64.whl (9.6 MB)\n",
      "Installing collected packages: scikit-learn\n",
      "\u001b[31mERROR: pip's dependency resolver does not currently take into account all the packages that are installed. This behaviour is the source of the following dependency conflicts.\n",
      "autogluon-core 0.8.2 requires scikit-learn<1.5,>=1.3.0, but you have scikit-learn 1.2.1 which is incompatible.\n",
      "autogluon-features 0.8.2 requires scikit-learn<1.5,>=1.3.0, but you have scikit-learn 1.2.1 which is incompatible.\n",
      "autogluon-multimodal 0.8.2 requires scikit-learn<1.5,>=1.3.0, but you have scikit-learn 1.2.1 which is incompatible.\n",
      "autogluon-tabular 0.8.2 requires scikit-learn<1.5,>=1.3.0, but you have scikit-learn 1.2.1 which is incompatible.\u001b[0m\u001b[31m\n",
      "\u001b[0mSuccessfully installed scikit-learn-1.2.1\n"
     ]
    }
   ],
   "source": [
    "!pip uninstall scikit-learn -y\n",
    "!pip install scikit-learn=='1.2.1'"
   ]
  },
  {
   "cell_type": "code",
   "execution_count": 3,
   "id": "1665bc0d-1978-4d32-96ae-f27be6a7b6dd",
   "metadata": {},
   "outputs": [
    {
     "name": "stdout",
     "output_type": "stream",
     "text": [
      "sagemaker.config INFO - Not applying SDK defaults from location: /etc/xdg/sagemaker/config.yaml\n",
      "sagemaker.config INFO - Not applying SDK defaults from location: /home/sagemaker-user/.config/sagemaker/config.yaml\n"
     ]
    }
   ],
   "source": [
    "session = sagemaker.Session()\n",
    "bucket = session.default_bucket()"
   ]
  },
  {
   "cell_type": "code",
   "execution_count": 4,
   "id": "4f3ec202-5264-438d-9144-97e998396ba1",
   "metadata": {},
   "outputs": [],
   "source": [
    "df = pd.read_csv(\"train.csv\", header=None)"
   ]
  },
  {
   "cell_type": "code",
   "execution_count": 5,
   "id": "3e02430d-7852-42fb-ae45-d0ef2aed22fe",
   "metadata": {},
   "outputs": [],
   "source": [
    "X = df.iloc[:, 1:]\n",
    "y = df.iloc[:, 0]"
   ]
  },
  {
   "cell_type": "code",
   "execution_count": 6,
   "id": "af9bcbd3-af04-4841-8e4b-33a9cde561fe",
   "metadata": {},
   "outputs": [],
   "source": [
    "model = KNeighborsClassifier()"
   ]
  },
  {
   "cell_type": "code",
   "execution_count": 7,
   "id": "e8a799fb-a21d-41f1-9987-554b2ed42477",
   "metadata": {},
   "outputs": [
    {
     "data": {
      "text/html": [
       "<style>#sk-container-id-1 {color: black;background-color: white;}#sk-container-id-1 pre{padding: 0;}#sk-container-id-1 div.sk-toggleable {background-color: white;}#sk-container-id-1 label.sk-toggleable__label {cursor: pointer;display: block;width: 100%;margin-bottom: 0;padding: 0.3em;box-sizing: border-box;text-align: center;}#sk-container-id-1 label.sk-toggleable__label-arrow:before {content: \"▸\";float: left;margin-right: 0.25em;color: #696969;}#sk-container-id-1 label.sk-toggleable__label-arrow:hover:before {color: black;}#sk-container-id-1 div.sk-estimator:hover label.sk-toggleable__label-arrow:before {color: black;}#sk-container-id-1 div.sk-toggleable__content {max-height: 0;max-width: 0;overflow: hidden;text-align: left;background-color: #f0f8ff;}#sk-container-id-1 div.sk-toggleable__content pre {margin: 0.2em;color: black;border-radius: 0.25em;background-color: #f0f8ff;}#sk-container-id-1 input.sk-toggleable__control:checked~div.sk-toggleable__content {max-height: 200px;max-width: 100%;overflow: auto;}#sk-container-id-1 input.sk-toggleable__control:checked~label.sk-toggleable__label-arrow:before {content: \"▾\";}#sk-container-id-1 div.sk-estimator input.sk-toggleable__control:checked~label.sk-toggleable__label {background-color: #d4ebff;}#sk-container-id-1 div.sk-label input.sk-toggleable__control:checked~label.sk-toggleable__label {background-color: #d4ebff;}#sk-container-id-1 input.sk-hidden--visually {border: 0;clip: rect(1px 1px 1px 1px);clip: rect(1px, 1px, 1px, 1px);height: 1px;margin: -1px;overflow: hidden;padding: 0;position: absolute;width: 1px;}#sk-container-id-1 div.sk-estimator {font-family: monospace;background-color: #f0f8ff;border: 1px dotted black;border-radius: 0.25em;box-sizing: border-box;margin-bottom: 0.5em;}#sk-container-id-1 div.sk-estimator:hover {background-color: #d4ebff;}#sk-container-id-1 div.sk-parallel-item::after {content: \"\";width: 100%;border-bottom: 1px solid gray;flex-grow: 1;}#sk-container-id-1 div.sk-label:hover label.sk-toggleable__label {background-color: #d4ebff;}#sk-container-id-1 div.sk-serial::before {content: \"\";position: absolute;border-left: 1px solid gray;box-sizing: border-box;top: 0;bottom: 0;left: 50%;z-index: 0;}#sk-container-id-1 div.sk-serial {display: flex;flex-direction: column;align-items: center;background-color: white;padding-right: 0.2em;padding-left: 0.2em;position: relative;}#sk-container-id-1 div.sk-item {position: relative;z-index: 1;}#sk-container-id-1 div.sk-parallel {display: flex;align-items: stretch;justify-content: center;background-color: white;position: relative;}#sk-container-id-1 div.sk-item::before, #sk-container-id-1 div.sk-parallel-item::before {content: \"\";position: absolute;border-left: 1px solid gray;box-sizing: border-box;top: 0;bottom: 0;left: 50%;z-index: -1;}#sk-container-id-1 div.sk-parallel-item {display: flex;flex-direction: column;z-index: 1;position: relative;background-color: white;}#sk-container-id-1 div.sk-parallel-item:first-child::after {align-self: flex-end;width: 50%;}#sk-container-id-1 div.sk-parallel-item:last-child::after {align-self: flex-start;width: 50%;}#sk-container-id-1 div.sk-parallel-item:only-child::after {width: 0;}#sk-container-id-1 div.sk-dashed-wrapped {border: 1px dashed gray;margin: 0 0.4em 0.5em 0.4em;box-sizing: border-box;padding-bottom: 0.4em;background-color: white;}#sk-container-id-1 div.sk-label label {font-family: monospace;font-weight: bold;display: inline-block;line-height: 1.2em;}#sk-container-id-1 div.sk-label-container {text-align: center;}#sk-container-id-1 div.sk-container {/* jupyter's `normalize.less` sets `[hidden] { display: none; }` but bootstrap.min.css set `[hidden] { display: none !important; }` so we also need the `!important` here to be able to override the default hidden behavior on the sphinx rendered scikit-learn.org. See: https://github.com/scikit-learn/scikit-learn/issues/21755 */display: inline-block !important;position: relative;}#sk-container-id-1 div.sk-text-repr-fallback {display: none;}</style><div id=\"sk-container-id-1\" class=\"sk-top-container\"><div class=\"sk-text-repr-fallback\"><pre>KNeighborsClassifier()</pre><b>In a Jupyter environment, please rerun this cell to show the HTML representation or trust the notebook. <br />On GitHub, the HTML representation is unable to render, please try loading this page with nbviewer.org.</b></div><div class=\"sk-container\" hidden><div class=\"sk-item\"><div class=\"sk-estimator sk-toggleable\"><input class=\"sk-toggleable__control sk-hidden--visually\" id=\"sk-estimator-id-1\" type=\"checkbox\" checked><label for=\"sk-estimator-id-1\" class=\"sk-toggleable__label sk-toggleable__label-arrow\">KNeighborsClassifier</label><div class=\"sk-toggleable__content\"><pre>KNeighborsClassifier()</pre></div></div></div></div></div>"
      ],
      "text/plain": [
       "KNeighborsClassifier()"
      ]
     },
     "execution_count": 7,
     "metadata": {},
     "output_type": "execute_result"
    }
   ],
   "source": [
    "model.fit(X, y)"
   ]
  },
  {
   "cell_type": "code",
   "execution_count": 8,
   "id": "cc29a5cf-49be-41ff-b8db-2918ae017bad",
   "metadata": {},
   "outputs": [
    {
     "data": {
      "text/plain": [
       "['model.joblib']"
      ]
     },
     "execution_count": 8,
     "metadata": {},
     "output_type": "execute_result"
    }
   ],
   "source": [
    "joblib.dump(model, \"model.joblib\")"
   ]
  },
  {
   "cell_type": "code",
   "execution_count": 9,
   "id": "ec090464-7e4e-4849-b66c-b8d011305837",
   "metadata": {},
   "outputs": [
    {
     "name": "stdout",
     "output_type": "stream",
     "text": [
      "model.joblib\n"
     ]
    }
   ],
   "source": [
    "!tar -czvf model.tar.gz model.joblib "
   ]
  },
  {
   "cell_type": "code",
   "execution_count": 10,
   "id": "6eb16405-9aa1-483c-af89-8d46eae07ff1",
   "metadata": {},
   "outputs": [],
   "source": [
    "model_uri = session.upload_data(\"model.tar.gz\", bucket, \"custom_model/heart\")"
   ]
  },
  {
   "cell_type": "code",
   "execution_count": 11,
   "id": "cbe1a374-3514-487e-9da6-21399f0ea103",
   "metadata": {},
   "outputs": [
    {
     "data": {
      "text/plain": [
       "'s3://sagemaker-us-east-1-381492271173/custom_model/heart/model.tar.gz'"
      ]
     },
     "execution_count": 11,
     "metadata": {},
     "output_type": "execute_result"
    }
   ],
   "source": [
    "model_uri"
   ]
  },
  {
   "cell_type": "code",
   "execution_count": 60,
   "id": "aa0245cd-7786-4984-8ae1-08e19a37bac3",
   "metadata": {},
   "outputs": [
    {
     "name": "stdout",
     "output_type": "stream",
     "text": [
      "Overwriting entrypoint.py\n"
     ]
    }
   ],
   "source": [
    "%%writefile entrypoint.py\n",
    "import joblib\n",
    "import os\n",
    "\n",
    "def model_fn(model_dir):\n",
    "    clf = joblib.load(os.path.join(model_dir, \"model.joblib\"))\n",
    "    return clf\n",
    "\n",
    "def predict_fn(input_data, model):\n",
    "     if len(input_data.shape) == 1:\n",
    "      proba = model.predict_proba(input_data.reshape(-1, 1).T)\n",
    "     else:\n",
    "      proba = model.predict_proba(input_data)   \n",
    "     return proba\n"
   ]
  },
  {
   "cell_type": "code",
   "execution_count": 61,
   "id": "2964f6e4-c9cf-4cbe-adbb-a5bcaf154441",
   "metadata": {},
   "outputs": [
    {
     "name": "stdout",
     "output_type": "stream",
     "text": [
      "[[0.6 0.4]]\n"
     ]
    }
   ],
   "source": [
    "!python -c \"from entrypoint import model_fn, predict_fn; import numpy as np; clf = model_fn(''); print(predict_fn(np.array([57,0,0,140,241,0,1,123,1,0.2,1,0,3]),clf))\""
   ]
  },
  {
   "cell_type": "code",
   "execution_count": 62,
   "id": "0b2db979-516c-4c25-a55d-6043a26ab579",
   "metadata": {},
   "outputs": [
    {
     "name": "stdout",
     "output_type": "stream",
     "text": [
      "[[0.6 0.4]\n",
      " [0.6 0.4]]\n"
     ]
    }
   ],
   "source": [
    "!python -c \"from entrypoint import model_fn, predict_fn; import numpy as np; clf = model_fn(''); print(predict_fn(np.array([[57,0,0,140,241,0,1,123,1,0.2,1,0,3], [57,0,0,140,241,0,1,123,1,0.2,1,0,3]]),clf))\""
   ]
  },
  {
   "cell_type": "code",
   "execution_count": 64,
   "id": "5603a6f9-7c75-4c91-ba34-07b745505d61",
   "metadata": {},
   "outputs": [
    {
     "name": "stdout",
     "output_type": "stream",
     "text": [
      "sagemaker.config INFO - Not applying SDK defaults from location: /etc/xdg/sagemaker/config.yaml\n",
      "sagemaker.config INFO - Not applying SDK defaults from location: /home/sagemaker-user/.config/sagemaker/config.yaml\n"
     ]
    }
   ],
   "source": [
    "sklearn_model = SKLearnModel(model_data=model_uri,\n",
    "                             role=\"LabRole\",\n",
    "                             entry_point=\"entrypoint.py\",\n",
    "                             framework_version=\"1.2-1\")"
   ]
  },
  {
   "cell_type": "code",
   "execution_count": 65,
   "id": "68250145-4f2a-437d-9196-5a34f16f4f05",
   "metadata": {},
   "outputs": [
    {
     "name": "stdout",
     "output_type": "stream",
     "text": [
      "sagemaker.config INFO - Not applying SDK defaults from location: /etc/xdg/sagemaker/config.yaml\n",
      "sagemaker.config INFO - Not applying SDK defaults from location: /home/sagemaker-user/.config/sagemaker/config.yaml\n",
      "------!"
     ]
    }
   ],
   "source": [
    "predictor = sklearn_model.deploy(initial_instance_count=1,\n",
    "                                 instance_type='ml.m5.xlarge',\n",
    "                                 serializer=CSVSerializer(),\n",
    "                                 deserializer=CSVDeserializer()\n",
    "                                )"
   ]
  },
  {
   "cell_type": "code",
   "execution_count": 66,
   "id": "7b64520f-5e6a-4a2b-9ad4-fe7903759f7b",
   "metadata": {},
   "outputs": [
    {
     "data": {
      "text/plain": [
       "[['0.6', '0.4'], ['0.6', '0.4']]"
      ]
     },
     "execution_count": 66,
     "metadata": {},
     "output_type": "execute_result"
    }
   ],
   "source": [
    "predictor.predict('57,0,0,140,241,0,1,123,1,0.2,1,0,3\\n57,0,0,140,241,0,1,123,1,0.2,1,0,3\\n')"
   ]
  },
  {
   "cell_type": "code",
   "execution_count": 67,
   "id": "cf3a2146-1a46-458f-9da9-3204a04129f2",
   "metadata": {},
   "outputs": [
    {
     "data": {
      "text/plain": [
       "[['0.6', '0.4']]"
      ]
     },
     "execution_count": 67,
     "metadata": {},
     "output_type": "execute_result"
    }
   ],
   "source": [
    "predictor.predict('57,0,0,140,241,0,1,123,1,0.2,1,0,3\\n')"
   ]
  },
  {
   "cell_type": "code",
   "execution_count": 68,
   "id": "bbd1553a-f640-419f-9690-7762210059d5",
   "metadata": {},
   "outputs": [],
   "source": [
    "predictor.delete_endpoint()"
   ]
  }
 ],
 "metadata": {
  "kernelspec": {
   "display_name": "Python 3 (ipykernel)",
   "language": "python",
   "name": "python3"
  },
  "language_info": {
   "codemirror_mode": {
    "name": "ipython",
    "version": 3
   },
   "file_extension": ".py",
   "mimetype": "text/x-python",
   "name": "python",
   "nbconvert_exporter": "python",
   "pygments_lexer": "ipython3",
   "version": "3.10.13"
  }
 },
 "nbformat": 4,
 "nbformat_minor": 5
}
