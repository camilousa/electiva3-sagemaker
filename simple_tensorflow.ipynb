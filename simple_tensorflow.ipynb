{
 "cells": [
  {
   "cell_type": "markdown",
   "id": "942047e3-7272-4d07-b08d-2eb1927d995c",
   "metadata": {},
   "source": [
    "https://saturncloud.io/blog/how-to-serve-tensorflow-models-in-amazon-sagemaker/"
   ]
  },
  {
   "cell_type": "code",
   "execution_count": 22,
   "id": "3c0dddb8-3260-404c-a760-2b5bf1ef20ae",
   "metadata": {},
   "outputs": [],
   "source": [
    "import numpy as np\n",
    "import tarfile"
   ]
  },
  {
   "cell_type": "code",
   "execution_count": 16,
   "id": "7997d63a-76cd-4f69-a9df-beb66ce01373",
   "metadata": {},
   "outputs": [],
   "source": [
    "train_np =np.random.uniform(size=(5 ,5))\n",
    "test_np =np.random.uniform(size=(5,5))"
   ]
  },
  {
   "cell_type": "code",
   "execution_count": 17,
   "id": "c7438829-7fb2-48f9-8d71-e2b50655b26d",
   "metadata": {},
   "outputs": [],
   "source": [
    "train_labels = np.array([0, 1, 1, 0, 1])\n",
    "test_labels = np.array([1, 0, 1, 1, 0])\n"
   ]
  },
  {
   "cell_type": "code",
   "execution_count": null,
   "id": "ea1f5cf8-41a1-4541-b096-c089661bbd5a",
   "metadata": {},
   "outputs": [],
   "source": []
  },
  {
   "cell_type": "code",
   "execution_count": 19,
   "id": "5ae3b0c2-7553-4eb0-955b-a6e45a5e1206",
   "metadata": {},
   "outputs": [
    {
     "name": "stdout",
     "output_type": "stream",
     "text": [
      "Epoch 1/50\n",
      "1/1 [==============================] - 1s 1s/step - loss: 0.6704 - accuracy: 0.8000 - val_loss: 0.7210 - val_accuracy: 0.4000\n",
      "Epoch 2/50\n",
      "1/1 [==============================] - 0s 29ms/step - loss: 0.6693 - accuracy: 0.8000 - val_loss: 0.7205 - val_accuracy: 0.4000\n",
      "Epoch 3/50\n",
      "1/1 [==============================] - 0s 29ms/step - loss: 0.6683 - accuracy: 0.8000 - val_loss: 0.7200 - val_accuracy: 0.6000\n",
      "Epoch 4/50\n",
      "1/1 [==============================] - 0s 30ms/step - loss: 0.6672 - accuracy: 0.8000 - val_loss: 0.7196 - val_accuracy: 0.6000\n",
      "Epoch 5/50\n",
      "1/1 [==============================] - 0s 30ms/step - loss: 0.6661 - accuracy: 0.8000 - val_loss: 0.7192 - val_accuracy: 0.6000\n",
      "Epoch 6/50\n",
      "1/1 [==============================] - 0s 32ms/step - loss: 0.6650 - accuracy: 0.8000 - val_loss: 0.7188 - val_accuracy: 0.6000\n",
      "Epoch 7/50\n",
      "1/1 [==============================] - 0s 30ms/step - loss: 0.6640 - accuracy: 0.8000 - val_loss: 0.7184 - val_accuracy: 0.6000\n",
      "Epoch 8/50\n",
      "1/1 [==============================] - 0s 29ms/step - loss: 0.6629 - accuracy: 0.8000 - val_loss: 0.7180 - val_accuracy: 0.6000\n",
      "Epoch 9/50\n",
      "1/1 [==============================] - 0s 34ms/step - loss: 0.6618 - accuracy: 0.8000 - val_loss: 0.7176 - val_accuracy: 0.6000\n",
      "Epoch 10/50\n",
      "1/1 [==============================] - 0s 31ms/step - loss: 0.6608 - accuracy: 0.8000 - val_loss: 0.7173 - val_accuracy: 0.6000\n",
      "Epoch 11/50\n",
      "1/1 [==============================] - 0s 29ms/step - loss: 0.6598 - accuracy: 0.8000 - val_loss: 0.7171 - val_accuracy: 0.6000\n",
      "Epoch 12/50\n",
      "1/1 [==============================] - 0s 32ms/step - loss: 0.6588 - accuracy: 0.8000 - val_loss: 0.7169 - val_accuracy: 0.6000\n",
      "Epoch 13/50\n",
      "1/1 [==============================] - 0s 35ms/step - loss: 0.6578 - accuracy: 0.8000 - val_loss: 0.7167 - val_accuracy: 0.6000\n",
      "Epoch 14/50\n",
      "1/1 [==============================] - 0s 35ms/step - loss: 0.6568 - accuracy: 0.8000 - val_loss: 0.7166 - val_accuracy: 0.6000\n",
      "Epoch 15/50\n",
      "1/1 [==============================] - 0s 29ms/step - loss: 0.6558 - accuracy: 0.8000 - val_loss: 0.7165 - val_accuracy: 0.6000\n",
      "Epoch 16/50\n",
      "1/1 [==============================] - 0s 30ms/step - loss: 0.6548 - accuracy: 0.8000 - val_loss: 0.7164 - val_accuracy: 0.6000\n",
      "Epoch 17/50\n",
      "1/1 [==============================] - 0s 30ms/step - loss: 0.6538 - accuracy: 0.8000 - val_loss: 0.7164 - val_accuracy: 0.6000\n",
      "Epoch 18/50\n",
      "1/1 [==============================] - 0s 33ms/step - loss: 0.6527 - accuracy: 0.8000 - val_loss: 0.7163 - val_accuracy: 0.6000\n",
      "Epoch 19/50\n",
      "1/1 [==============================] - 0s 29ms/step - loss: 0.6516 - accuracy: 0.8000 - val_loss: 0.7164 - val_accuracy: 0.6000\n"
     ]
    }
   ],
   "source": [
    "# import libraries\n",
    "import tensorflow as tf\n",
    "from tensorflow import keras\n",
    "\n",
    "# Create a simple model\n",
    "model = keras.Sequential([\n",
    "    keras.layers.Dense(10, activation='relu', input_shape=(5, )),\n",
    "    keras.layers.Dense(1, activation='sigmoid')\n",
    "])\n",
    "\n",
    "\n",
    "# Compile the model\n",
    "model.compile(optimizer='adam',\n",
    "              loss = \"binary_crossentropy\",\n",
    "              metrics=['accuracy'])\n",
    "\n",
    "# Train the model\n",
    "\n",
    "EPOCHS = 50\n",
    "BATCH_SIZE = 32\n",
    "\n",
    "EARLY_STOPPING = tf.keras.callbacks.EarlyStopping(\n",
    "    monitor=\"val_loss\", mode=\"auto\", restore_best_weights=True\n",
    ")\n",
    "\n",
    "history = model.fit(\n",
    "    x=train_np,\n",
    "    y=train_labels,\n",
    "    validation_data=(test_np, test_labels),\n",
    "    callbacks=[EARLY_STOPPING],\n",
    "    batch_size=BATCH_SIZE,\n",
    "    epochs=EPOCHS,\n",
    ")\n"
   ]
  },
  {
   "cell_type": "code",
   "execution_count": 23,
   "id": "aaccd168-233d-4a62-b6e4-ed8214ba1abf",
   "metadata": {},
   "outputs": [
    {
     "name": "stdout",
     "output_type": "stream",
     "text": [
      "INFO:tensorflow:Assets written to: export/Servo/1/assets\n"
     ]
    },
    {
     "name": "stderr",
     "output_type": "stream",
     "text": [
      "INFO:tensorflow:Assets written to: export/Servo/1/assets\n"
     ]
    }
   ],
   "source": [
    "model.save(\"export/Servo/1\")\n",
    "with tarfile.open(\"model.tar.gz\", \"w:gz\") as tar:\n",
    "    tar.add(\"export\")\n"
   ]
  },
  {
   "cell_type": "code",
   "execution_count": 24,
   "id": "4a28a799-74d8-463d-a4e0-888cc60ce2d3",
   "metadata": {},
   "outputs": [],
   "source": [
    "bucket_name=\"model-255423\""
   ]
  },
  {
   "cell_type": "code",
   "execution_count": 26,
   "id": "9f251414-6af8-44d6-af3c-229abf3d677b",
   "metadata": {},
   "outputs": [
    {
     "name": "stdout",
     "output_type": "stream",
     "text": [
      "sagemaker.config INFO - Not applying SDK defaults from location: /etc/xdg/sagemaker/config.yaml\n",
      "sagemaker.config INFO - Not applying SDK defaults from location: /home/ec2-user/.config/sagemaker/config.yaml\n"
     ]
    }
   ],
   "source": [
    "from sagemaker import get_execution_role\n",
    "from sagemaker import Session\n",
    "role = get_execution_role()\n",
    "sm_session = Session()"
   ]
  },
  {
   "cell_type": "code",
   "execution_count": 27,
   "id": "59c11b66-b547-43a5-9c59-c779dcd4ab26",
   "metadata": {},
   "outputs": [],
   "source": [
    "s3_response = sm_session.upload_data(\"model.tar.gz\", bucket=bucket_name, key_prefix=\"model\")\n",
    "\n"
   ]
  },
  {
   "cell_type": "code",
   "execution_count": 29,
   "id": "d8e9a1e9-a714-42de-a947-503027eb7b38",
   "metadata": {},
   "outputs": [
    {
     "data": {
      "text/plain": [
       "'2.16.2'"
      ]
     },
     "execution_count": 29,
     "metadata": {},
     "output_type": "execute_result"
    }
   ],
   "source": [
    "tf.__version__"
   ]
  },
  {
   "cell_type": "code",
   "execution_count": 28,
   "id": "3abcf51d-f1f3-44fd-99f1-e92114e788d2",
   "metadata": {},
   "outputs": [],
   "source": [
    "from sagemaker.tensorflow import TensorFlowModel\n",
    "\n",
    "# Select which type of SageMaker EC2 instance to deploy the model on  \n",
    "instance_type = 'ml.m5.xlarge' "
   ]
  },
  {
   "cell_type": "code",
   "execution_count": 30,
   "id": "e3396a45-73f8-4f2e-bb43-01c9e10fc807",
   "metadata": {},
   "outputs": [],
   "source": [
    "sagemaker_model = TensorFlowModel(\n",
    "    model_data=f\"s3://{bucket_name}/model/model.tar.gz\",\n",
    "    role=role,\n",
    "    framework_version=tf.__version__,\n",
    ")\n"
   ]
  },
  {
   "cell_type": "code",
   "execution_count": 31,
   "id": "964beb4a-6132-45a9-acb3-19cbda1d8119",
   "metadata": {},
   "outputs": [
    {
     "name": "stdout",
     "output_type": "stream",
     "text": [
      "-----!CPU times: user 338 ms, sys: 36.2 ms, total: 374 ms\n",
      "Wall time: 3min 2s\n"
     ]
    }
   ],
   "source": [
    "%%time\n",
    "predictor = sagemaker_model.deploy(initial_instance_count=1, instance_type=instance_type)"
   ]
  },
  {
   "cell_type": "code",
   "execution_count": 32,
   "id": "c891f126-e6df-4e7e-b003-395a15120835",
   "metadata": {},
   "outputs": [],
   "source": [
    "sample = test_np"
   ]
  },
  {
   "cell_type": "code",
   "execution_count": 33,
   "id": "5f3dfc47-e676-488d-8311-f6fe35e1398e",
   "metadata": {},
   "outputs": [
    {
     "data": {
      "text/plain": [
       "{'predictions': [[0.54835546],\n",
       "  [0.480862081],\n",
       "  [0.511126161],\n",
       "  [0.423835307],\n",
       "  [0.548755169]]}"
      ]
     },
     "execution_count": 33,
     "metadata": {},
     "output_type": "execute_result"
    }
   ],
   "source": [
    "predictor.predict(sample)"
   ]
  },
  {
   "cell_type": "code",
   "execution_count": null,
   "id": "b006e785-259f-45f3-bbf7-7223b60e3bc2",
   "metadata": {},
   "outputs": [],
   "source": []
  }
 ],
 "metadata": {
  "kernelspec": {
   "display_name": "conda_tensorflow2_p310",
   "language": "python",
   "name": "conda_tensorflow2_p310"
  },
  "language_info": {
   "codemirror_mode": {
    "name": "ipython",
    "version": 3
   },
   "file_extension": ".py",
   "mimetype": "text/x-python",
   "name": "python",
   "nbconvert_exporter": "python",
   "pygments_lexer": "ipython3",
   "version": "3.10.18"
  }
 },
 "nbformat": 4,
 "nbformat_minor": 5
}
