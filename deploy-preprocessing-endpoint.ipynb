{
 "cells": [
  {
   "cell_type": "code",
   "execution_count": 15,
   "id": "0fd3db42-d380-4c48-a957-f13f85f669af",
   "metadata": {},
   "outputs": [],
   "source": [
    "import sagemaker\n",
    "from sagemaker.sparkml.model import SparkMLModel\n",
    "from sagemaker.serializers import CSVSerializer, JSONSerializer\n",
    "from sagemaker.deserializers import CSVDeserializer"
   ]
  },
  {
   "cell_type": "code",
   "execution_count": 4,
   "id": "a18d1296-6af4-4bb0-8bf4-67ae4c9a4c18",
   "metadata": {},
   "outputs": [
    {
     "name": "stdout",
     "output_type": "stream",
     "text": [
      "sagemaker.config INFO - Not applying SDK defaults from location: /etc/xdg/sagemaker/config.yaml\n",
      "sagemaker.config INFO - Not applying SDK defaults from location: /home/sagemaker-user/.config/sagemaker/config.yaml\n"
     ]
    }
   ],
   "source": [
    "session = sagemaker.Session()\n",
    "bucket = session.default_bucket()"
   ]
  },
  {
   "cell_type": "code",
   "execution_count": 5,
   "id": "40363ab3-a736-4e29-90e8-0c681de7cd41",
   "metadata": {},
   "outputs": [],
   "source": [
    "model_data = 's3://sagemaker-us-east-1-381492271173/heart/pyspark-model/model.tar.gz'"
   ]
  },
  {
   "cell_type": "code",
   "execution_count": 6,
   "id": "fc72da23-752d-4ac7-b9e1-204ab624dbba",
   "metadata": {},
   "outputs": [],
   "source": [
    "spark_model = SparkMLModel(\n",
    "    model_data=model_data,\n",
    "    role='LabRole',\n",
    "    sagemaker_session=session\n",
    ")"
   ]
  },
  {
   "cell_type": "code",
   "execution_count": 8,
   "id": "8751c99e-1256-44ee-8fe2-d7a4fa35ac0d",
   "metadata": {},
   "outputs": [
    {
     "name": "stdout",
     "output_type": "stream",
     "text": [
      "----!"
     ]
    }
   ],
   "source": [
    "predictor = spark_model.deploy(initial_instance_count=1,\n",
    "                               instance_type='ml.m5.xlarge',\n",
    "                               serializer=JSONSerializer(),\n",
    "                               deserializer=CSVDeserializer())"
   ]
  },
  {
   "cell_type": "code",
   "execution_count": 16,
   "id": "cfcca7f2-3fe1-4fcf-8acd-fd3d3661c521",
   "metadata": {},
   "outputs": [],
   "source": [
    "predictor.serializer = JSONSerializer()"
   ]
  },
  {
   "cell_type": "code",
   "execution_count": 17,
   "id": "a257180f-f1ea-4995-bb00-8aa707580bac",
   "metadata": {},
   "outputs": [],
   "source": [
    "data = \"57,0,0,140,241,0,1,123,1,0.2,1,0,3\\n45,1,3,110,264,0,1,132,0,1.2,1,0,3\\n\""
   ]
  },
  {
   "cell_type": "code",
   "execution_count": 22,
   "id": "e402cc3d-3c42-4083-aafb-24ace0162d4a",
   "metadata": {},
   "outputs": [],
   "source": [
    "payload = {\n",
    "    \"schema\": {\n",
    "        \"input\": [\n",
    "            {\"name\": \"_c1\", \"type\": \"double\"},\n",
    "            {\"name\": \"_c2\", \"type\": \"double\"},\n",
    "            {\"name\": \"_c3\", \"type\": \"double\"},\n",
    "            {\"name\": \"_c4\", \"type\": \"double\"},\n",
    "            {\"name\": \"_c5\", \"type\": \"double\"},\n",
    "            {\"name\": \"_c6\", \"type\": \"double\"},\n",
    "            {\"name\": \"_c7\", \"type\": \"double\"},\n",
    "            {\"name\": \"_c8\", \"type\": \"double\"},\n",
    "            {\"name\": \"_c9\", \"type\": \"double\"},\n",
    "            {\"name\": \"_c10\", \"type\": \"double\"},\n",
    "            {\"name\": \"_c11\", \"type\": \"double\"},\n",
    "            {\"name\": \"_c12\", \"type\": \"double\"},\n",
    "            {\"name\": \"_c13\", \"type\": \"double\"},\n",
    "        ],\n",
    "        \"output\": {\"name\": \"scaled_features\",\n",
    "                   \"type\": \"double\",\n",
    "                   \"struct\": \"vector\"},\n",
    "    },\n",
    "    \"data\": [57,0,0,140,241,0,1,123,1,0.2,1,0,3],\n",
    "}\n"
   ]
  },
  {
   "cell_type": "code",
   "execution_count": 23,
   "id": "c7d0966d-cf71-4a1c-b77d-022030d9cd54",
   "metadata": {},
   "outputs": [
    {
     "data": {
      "text/plain": [
       "[['0.2767002351501161',\n",
       "  '-1.45177758544574',\n",
       "  '-0.8757647146373706',\n",
       "  '0.45344859692696404',\n",
       "  '-0.12905212106907268',\n",
       "  '-0.42835491225471645',\n",
       "  '0.9104528949525414',\n",
       "  '-1.1192195621946985',\n",
       "  '1.362375987928232',\n",
       "  '-0.7537143113599787',\n",
       "  '-0.5851857177984361',\n",
       "  '-0.7294728719036612',\n",
       "  '1.062778465601575']]"
      ]
     },
     "execution_count": 23,
     "metadata": {},
     "output_type": "execute_result"
    }
   ],
   "source": [
    "predictor.predict(payload)"
   ]
  },
  {
   "cell_type": "code",
   "execution_count": null,
   "id": "7960ffaf-6f2c-4cbe-95b7-45a3e7faa9d8",
   "metadata": {},
   "outputs": [],
   "source": [
    "predictor.delete_endpoint()"
   ]
  }
 ],
 "metadata": {
  "kernelspec": {
   "display_name": "Python 3 (ipykernel)",
   "language": "python",
   "name": "python3"
  },
  "language_info": {
   "codemirror_mode": {
    "name": "ipython",
    "version": 3
   },
   "file_extension": ".py",
   "mimetype": "text/x-python",
   "name": "python",
   "nbconvert_exporter": "python",
   "pygments_lexer": "ipython3",
   "version": "3.10.13"
  }
 },
 "nbformat": 4,
 "nbformat_minor": 5
}
